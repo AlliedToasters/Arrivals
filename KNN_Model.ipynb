{
 "cells": [
  {
   "cell_type": "markdown",
   "metadata": {},
   "source": [
    "<H1>Predicting Flight Delays</H1>\n",
    "<H3>by Michael Klear</H3>\n",
    "Using <a href='http://stat-computing.org/dataexpo/2009/the-data.html'>this ASA dataset</a> of historic flights, I built a simple nearest neighbors model to estimate flight tardiness.<br>"
   ]
  },
  {
   "cell_type": "code",
   "execution_count": 1,
   "metadata": {
    "collapsed": true
   },
   "outputs": [],
   "source": [
    "import numpy as np\n",
    "import pandas as pd\n",
    "import matplotlib.pyplot as plt\n",
    "from math import sqrt\n",
    "from sklearn.neighbors import KNeighborsRegressor"
   ]
  },
  {
   "cell_type": "markdown",
   "metadata": {},
   "source": [
    "The model I built uses only information available at the time of flight departure, and should work at any arbitrary time to predict the arrival delay of a flight leaving now. We'll look at the first week of Decemeber, 1999."
   ]
  },
  {
   "cell_type": "code",
   "execution_count": 2,
   "metadata": {
    "collapsed": true
   },
   "outputs": [],
   "source": [
    "data = pd.read_csv('1999.csv.bz2')\n",
    "december = data[data.Month == 12].copy()\n",
    "del data\n",
    "first_week = december[december.DayofMonth <= 7].copy()\n",
    "del december\n",
    "data = first_week\n",
    "#Drop cancelled and diverted flights\n",
    "data = data[data.Cancelled == 0]\n",
    "data = data[data.Diverted == 0]\n",
    "df = data"
   ]
  },
  {
   "cell_type": "markdown",
   "metadata": {},
   "source": [
    "To evaluate my model, I use delay groups. Each group represents a different degree of delay. Any arrival delay of less than 30 minutes is in group zero (including on-time arrivals)."
   ]
  },
  {
   "cell_type": "code",
   "execution_count": 3,
   "metadata": {
    "collapsed": true
   },
   "outputs": [],
   "source": [
    "def assign_delay_group(arrival_delay):\n",
    "    '''Takes an arrival delay in minutes and returns a list of \n",
    "    group numbers. The groups correspond to the following encoding:\n",
    "    == 0 if less than 30 minutes late (on time), \n",
    "    == 1 if 30-45 minutes late, \n",
    "    == 2 if 45-60 min late, \n",
    "    == 3 if 60-90, \n",
    "    == 4 if 90-120, \n",
    "    == 5 if 120-180,\n",
    "    == 6 if 180-240,\n",
    "    == 7 if more than 240\n",
    "    '''\n",
    "    d = int(arrival_delay)\n",
    "    if d < 30:\n",
    "        return 0\n",
    "    if 30 <= d < 45:\n",
    "        return 1\n",
    "    if 45 <= d < 60:\n",
    "        return 2\n",
    "    if 60 <= d < 90:\n",
    "        return 3\n",
    "    if 90 <= d < 120:\n",
    "        return 4\n",
    "    if 120 <= d < 180:\n",
    "        return 5\n",
    "    if 180 <= d < 240:\n",
    "        return 6\n",
    "    if 240 <= d:\n",
    "        return 7\n",
    "    else:\n",
    "        raise Exception('Error: unrecognized input')\n",
    "        \n",
    "def get_day(year, month, day, count_forward=True):\n",
    "    \"\"\"Takes a year, month of the year(1-12), and day of the month(1-31).\n",
    "    Returns the number of days from the beginning of the year (Jan 1==1).\n",
    "    Keyword 'count_forward' (default True) specifies if to count days from beginning\n",
    "    of year. If False, returns number of days until end of year.\n",
    "    \"\"\"\n",
    "    days_common = {\n",
    "        1 : 0,\n",
    "        2 : 31,\n",
    "        3 : 59,\n",
    "        4 : 90,\n",
    "        5 : 120,\n",
    "        6 : 151,\n",
    "        7 : 181,\n",
    "        8 : 212,\n",
    "        9 : 243,\n",
    "        10 : 273,\n",
    "        11 : 304,\n",
    "        12 : 334\n",
    "    }\n",
    "    is_leap_year = bool()\n",
    "    if year % 4 != 0:\n",
    "        is_leap_year = False\n",
    "    elif year % 100 != 0:\n",
    "        is_leap_year = True\n",
    "    elif year % 400 != 0:\n",
    "        is_leap_year = False\n",
    "    else:\n",
    "        is_leap_year = True\n",
    "    result = days_common[month]\n",
    "    if is_leap_year and month > 2:\n",
    "        result += 1\n",
    "    result += day\n",
    "    if count_forward:\n",
    "        return result\n",
    "    else:\n",
    "        if is_leap_year:\n",
    "            return (366 - result)\n",
    "        else:\n",
    "            return (365 - result)"
   ]
  },
  {
   "cell_type": "code",
   "execution_count": 4,
   "metadata": {
    "collapsed": true
   },
   "outputs": [],
   "source": [
    "df['day_of_year'] = df[['Year', 'Month', 'DayofMonth']].apply(lambda x: get_day(*x), axis=1)\n",
    "df['arr_delay_group'] = df.ArrDelay.apply(assign_delay_group)"
   ]
  },
  {
   "cell_type": "markdown",
   "metadata": {},
   "source": [
    "Differences between departure delay and arrival delay are important. If this split was always zero, arrival delay would always be equivalent to departure delay. We see later that this is not the case. My model works to predict the following metric:"
   ]
  },
  {
   "cell_type": "code",
   "execution_count": 5,
   "metadata": {
    "collapsed": true
   },
   "outputs": [],
   "source": [
    "df['dep_arr_delay_split'] = df.ArrDelay - df.DepDelay"
   ]
  },
  {
   "cell_type": "markdown",
   "metadata": {},
   "source": [
    "I use the following function to evaluate my model performance based on the delay groups it predicts:"
   ]
  },
  {
   "cell_type": "code",
   "execution_count": 6,
   "metadata": {
    "collapsed": true
   },
   "outputs": [],
   "source": [
    "def eval_performance(Y_, Y_true):\n",
    "    \"\"\"Takes a list of predicted arrival delays (Y_) and a matching list of actual\n",
    "    arrival delays (Y_true) and evaluates them based on delay groups.\n",
    "    \"\"\"\n",
    "    Y_ = list(pd.Series(Y_).apply(assign_delay_group))\n",
    "    Y_true = list(pd.Series(Y_true).apply(assign_delay_group))\n",
    "    results = pd.DataFrame()\n",
    "    results['true_group'] = Y_true\n",
    "    results['predicted_group'] = Y_\n",
    "    results['correct'] = np.where(results.true_group == results.predicted_group, 1, 0)\n",
    "    results['off_by'] = np.abs(results.true_group - results.predicted_group)\n",
    "    print('score: ', results.correct.sum()/len(results))\n",
    "    results[results.correct==0].true_group.hist(bins=7);\n",
    "    plt.title('True Arrival Groups of Misclassified Flights');\n",
    "    plt.xlabel('True Arrival Group');\n",
    "    plt.ylabel('Number of Misclassified Flights')\n",
    "    plt.show();\n",
    "    results[results.correct==0].off_by.hist(bins=7);\n",
    "    plt.title('\"Off By\" Numer of Groups for Misclassified Flights');\n",
    "    plt.xlabel('Off By Number of Groups');\n",
    "    plt.ylabel('Number of Misclassified Flights')\n",
    "    plt.show();\n",
    "    print(results.head())\n"
   ]
  },
  {
   "cell_type": "markdown",
   "metadata": {},
   "source": [
    "We can see how the \"null model\" performs (simply setting arrival delay equal to departure delay):"
   ]
  },
  {
   "cell_type": "code",
   "execution_count": 63,
   "metadata": {},
   "outputs": [
    {
     "name": "stdout",
     "output_type": "stream",
     "text": [
      "score:  0.942901102658\n"
     ]
    },
    {
     "data": {
      "image/png": "[encoded data removed]",
      "text/plain": [
       "<matplotlib.figure.Figure at 0x7fbdf03c74e0>"
      ]
     },
     "metadata": {},
     "output_type": "display_data"
    },
    {
     "data": {
      "image/png": "[encoded data removed]",
      "text/plain": [
       "<matplotlib.figure.Figure at 0x7fbdf0328f60>"
      ]
     },
     "metadata": {},
     "output_type": "display_data"
    },
    {
     "name": "stdout",
     "output_type": "stream",
     "text": [
      "   true_group  predicted_group  correct  off_by\n",
      "0           0                0        1       0\n",
      "1           0                0        1       0\n",
      "2           0                0        1       0\n",
      "3           0                0        1       0\n",
      "4           0                0        1       0\n"
     ]
    }
   ],
   "source": [
    "eval_performance(df.DepDelay, df.ArrDelay)"
   ]
  },
  {
   "cell_type": "markdown",
   "metadata": {},
   "source": [
    "<H2>Features</H2>\n",
    "The idea with my model is to use K nearest neighbors to ask \"how are similar recent flights deviating from planned flight time?\" This information may allow me to improve on the null model performance.<br>\n",
    "I'll use destination airport location (lat and long), average flight direction in terms of lat and long, distance, and a scaled departure delay to describe \"similar\" flights."
   ]
  },
  {
   "cell_type": "code",
   "execution_count": 8,
   "metadata": {
    "collapsed": true
   },
   "outputs": [],
   "source": [
    "#Load up dataset with lat/long info for airports.\n",
    "coords = pd.read_csv('Airport_Codes_mapped_to_Latitude_Longitude_in_the_United_States.csv')\n",
    "fca_row = pd.DataFrame(columns=coords.columns, index=[len(coords)])\n",
    "fca_row['locationID'] = 'FCA'\n",
    "fca_row['Latitude'] = 48.310556\n",
    "fca_row['Longitude'] = -114.256111\n",
    "coords = pd.concat([coords, fca_row], axis=0)"
   ]
  },
  {
   "cell_type": "code",
   "execution_count": 9,
   "metadata": {
    "collapsed": true
   },
   "outputs": [],
   "source": [
    "for org in df.Origin.unique():\n",
    "    if org not in list(coords.locationID):\n",
    "        print(org)"
   ]
  },
  {
   "cell_type": "code",
   "execution_count": 10,
   "metadata": {},
   "outputs": [
    {
     "name": "stdout",
     "output_type": "stream",
     "text": [
      "did a thing!\n",
      "did another thing!\n",
      "did thing 3!\n",
      "all the things!!\n"
     ]
    }
   ],
   "source": [
    "df['org_latitude'] = df.Origin.apply(lambda x: float(coords[coords.locationID == x].Latitude))\n",
    "print('did a thing!')\n",
    "df['org_longitude'] = df.Origin.apply(lambda x: float(coords[coords.locationID == x].Longitude))\n",
    "print('did another thing!')\n",
    "df['dest_latitude'] = df.Dest.apply(lambda x: float(coords[coords.locationID == x].Latitude))\n",
    "print('did thing 3!')\n",
    "df['dest_longitude'] = df.Dest.apply(lambda x: float(coords[coords.locationID == x].Longitude))\n",
    "print('all the things!!')"
   ]
  },
  {
   "cell_type": "code",
   "execution_count": 15,
   "metadata": {},
   "outputs": [],
   "source": [
    "def get_direction_lat(olat, olong, dlat, dlong):\n",
    "    \"\"\"Takes origin lat and long and destination lat and long and returns\n",
    "    a tuple: mean trip direction lat (N-S), mean trip direction long (W-E)\n",
    "    \"\"\"\n",
    "    lat_disp = dlat - olat\n",
    "    long_disp = dlong - olong\n",
    "    dist_sq = (lat_disp**2) + (long_disp**2)\n",
    "    dist = sqrt(dist_sq)\n",
    "    return lat_disp/dist\n",
    "\n",
    "def get_direction_long(olat, olong, dlat, dlong):\n",
    "    \"\"\"Takes origin lat and long and destination lat and long and returns\n",
    "    a tuple: mean trip direction lat (N-S), mean trip direction long (W-E)\n",
    "    \"\"\"\n",
    "    lat_disp = dlat - olat\n",
    "    long_disp = dlong - olong\n",
    "    dist_sq = (lat_disp**2) + (long_disp**2)\n",
    "    dist = sqrt(dist_sq)\n",
    "    return long_disp/dist\n",
    "\n",
    "df['lat_dir'] = df[['org_latitude', 'org_longitude', 'dest_latitude', 'dest_longitude']].apply(lambda x: get_direction_lat(*x), axis=1)\n",
    "df['long_dir'] = df[['org_latitude', 'org_longitude', 'dest_latitude', 'dest_longitude']].apply(lambda x: get_direction_long(*x), axis=1)\n",
    "    "
   ]
  },
  {
   "cell_type": "code",
   "execution_count": 16,
   "metadata": {
    "collapsed": true
   },
   "outputs": [],
   "source": [
    "distance_scale = 560 * 24 #scale by roughly the distance a plane can fly in a day\n",
    "df['dist_scaled'] = df.Distance/distance_scale"
   ]
  },
  {
   "cell_type": "code",
   "execution_count": 54,
   "metadata": {},
   "outputs": [],
   "source": [
    "def get_dta(day, dep_time, arr_time):\n",
    "    \"\"\"Returns arrival day and time as a float, where the decimal is the time\n",
    "    as a fraction of the day. Departure time needed to determine if arrives tomorrow.\n",
    "    \"\"\"\n",
    "    result = day\n",
    "    if dep_time > arr_time:\n",
    "        result += 1\n",
    "    min_scaled = 100*(float(str(arr_time)[-2:])/60)\n",
    "    time_scaled = int(float((str(arr_time)[:-2] + str(min_scaled))))\n",
    "    time_frac = time_scaled/2399\n",
    "    return result + time_frac\n",
    "\n",
    "df['date_time_arrival'] = df[['day_of_year', 'DepTime', 'ArrTime']].apply(lambda x: get_dta(*x), axis=1)\n",
    "\n",
    "def get_dtd(day, dep_time):\n",
    "    \"\"\"Returns arrival day and time as a float, where the decimal is the time\n",
    "    as a fraction of the day. Departure time needed to determine if arrives tomorrow.\n",
    "    \"\"\"\n",
    "    result = day\n",
    "    min_scaled = 100*(float(str(dep_time)[-2:])/60)\n",
    "    time_scaled = int(float((str(dep_time)[:-2] + str(min_scaled))))\n",
    "    time_frac = time_scaled/2399\n",
    "    return result + time_frac\n",
    "\n",
    "df['date_time_departure'] = df[['day_of_year', 'DepTime']].apply(lambda x: get_dtd(*x), axis=1)"
   ]
  },
  {
   "cell_type": "code",
   "execution_count": 61,
   "metadata": {
    "collapsed": true
   },
   "outputs": [],
   "source": [
    "def get_slice(data, dtd):\n",
    "    \"\"\"Slices data to get necessary flights for model.\n",
    "    Returns slice of dataframe where current dta=0 and all\n",
    "    previous times count back from there.\n",
    "    \"\"\"\n",
    "    result = data[data.date_time_departure > dtd][data.date_time_departure < (dtd+2)]\n",
    "    result.date_time_departure = result.date_time_departure - result.date_time_departure.max()\n",
    "    return result"
   ]
  },
  {
   "cell_type": "code",
   "execution_count": 49,
   "metadata": {},
   "outputs": [],
   "source": [
    "df['dep_delay_scaled'] = df.DepDelay/60"
   ]
  },
  {
   "cell_type": "code",
   "execution_count": 50,
   "metadata": {
    "collapsed": true
   },
   "outputs": [],
   "source": [
    "ft = [\n",
    "    'date_time_departure',\n",
    "    'dest_latitude',\n",
    "    'dest_longitude',\n",
    "    'lat_dir',\n",
    "    'long_dir',\n",
    "    'dist_scaled',\n",
    "    'dep_delay_scaled'\n",
    "]"
   ]
  },
  {
   "cell_type": "code",
   "execution_count": 62,
   "metadata": {},
   "outputs": [
    {
     "name": "stdout",
     "output_type": "stream",
     "text": [
      "estimation number:  50000\n"
     ]
    },
    {
     "name": "stderr",
     "output_type": "stream",
     "text": [
      "/home/alliedtoasters/anaconda3/envs/dspy3/lib/python3.6/site-packages/ipykernel/__main__.py:6: UserWarning: Boolean Series key will be reindexed to match DataFrame index.\n"
     ]
    },
    {
     "name": "stdout",
     "output_type": "stream",
     "text": [
      "estimation number:  50500\n",
      "estimation number:  51000\n",
      "estimation number:  51500\n",
      "estimation number:  52000\n",
      "estimation number:  52500\n",
      "estimation number:  53000\n",
      "estimation number:  53500\n",
      "estimation number:  54000\n",
      "estimation number:  54500\n",
      "estimation number:  55000\n",
      "estimation number:  55500\n",
      "estimation number:  56000\n",
      "estimation number:  56500\n",
      "estimation number:  57000\n",
      "estimation number:  57500\n",
      "estimation number:  58000\n",
      "estimation number:  58500\n",
      "estimation number:  59000\n",
      "estimation number:  59500\n",
      "Model performance: \n",
      "\n",
      "score:  0.9403\n"
     ]
    },
    {
     "data": {
      "image/png": "[encoded data removed]",
      "text/plain": [
       "<matplotlib.figure.Figure at 0x7fbdf03c7160>"
      ]
     },
     "metadata": {},
     "output_type": "display_data"
    },
    {
     "data": {
      "image/png": "[encoded data removed]",
      "text/plain": [
       "<matplotlib.figure.Figure at 0x7fbdf02cc198>"
      ]
     },
     "metadata": {},
     "output_type": "display_data"
    },
    {
     "name": "stdout",
     "output_type": "stream",
     "text": [
      "   true_group  predicted_group  correct  off_by\n",
      "0           0                0        1       0\n",
      "1           0                0        1       0\n",
      "2           0                0        1       0\n",
      "3           0                0        1       0\n",
      "4           0                0        1       0\n",
      "Null Model Performance: \n",
      "\n",
      "score:  0.9397\n"
     ]
    },
    {
     "data": {
      "image/png": "[encoded data removed]",
      "text/plain": [
       "<matplotlib.figure.Figure at 0x7fbdece2ca90>"
      ]
     },
     "metadata": {},
     "output_type": "display_data"
    },
    {
     "data": {
      "image/png": "[encoded data removed]",
      "text/plain": [
       "<matplotlib.figure.Figure at 0x7fbdedf63550>"
      ]
     },
     "metadata": {},
     "output_type": "display_data"
    },
    {
     "name": "stdout",
     "output_type": "stream",
     "text": [
      "   true_group  predicted_group  correct  off_by\n",
      "0           0                0        1       0\n",
      "1           0                0        1       0\n",
      "2           0                0        1       0\n",
      "3           0                0        1       0\n",
      "4           0                0        1       0\n"
     ]
    }
   ],
   "source": [
    "ordered = df.loc[df.date_time_departure.sort_values(ascending=True).index]\n",
    "pred_dad = []\n",
    "start_val = 50000\n",
    "stop_val = 60000\n",
    "for n in range (start_val, stop_val):\n",
    "    if n % 500 == 0:\n",
    "        print('estimation number: ', n)\n",
    "    slc = get_slice(ordered, ordered.iloc[n].date_time_departure)\n",
    "    X = slc[ft]\n",
    "    Y = slc['dep_arr_delay_split']\n",
    "    mod = KNeighborsRegressor(n_neighbors=7, weights=None)\n",
    "    mod.fit(X, Y)\n",
    "    pred_dad.append(int(mod.predict(np.array(ordered[ft].iloc[n]).reshape(1, -1))))\n",
    "    \n",
    "    \n",
    "Y_ = ordered.iloc[start_val:stop_val].DepDelay + pred_dad\n",
    "Y_act = ordered.iloc[start_val:stop_val].ArrDelay\n",
    "print('Model performance: \\n')\n",
    "eval_performance(Y_, Y_act)\n",
    "\n",
    "print('Null Model Performance: \\n')\n",
    "Y_ = ordered.iloc[start_val:stop_val].DepDelay\n",
    "Y_act = ordered.iloc[start_val:stop_val].ArrDelay\n",
    "eval_performance(Y_, Y_act)"
   ]
  },
  {
   "cell_type": "code",
   "execution_count": 56,
   "metadata": {},
   "outputs": [
    {
     "name": "stdout",
     "output_type": "stream",
     "text": [
      "score:  0.9397\n"
     ]
    },
    {
     "data": {
      "image/png": "[encoded data removed]",
      "text/plain": [
       "<matplotlib.figure.Figure at 0x7fbded4d0208>"
      ]
     },
     "metadata": {},
     "output_type": "display_data"
    },
    {
     "data": {
      "image/png": "[encoded data removed]",
      "text/plain": [
       "<matplotlib.figure.Figure at 0x7fbdece539b0>"
      ]
     },
     "metadata": {},
     "output_type": "display_data"
    },
    {
     "name": "stdout",
     "output_type": "stream",
     "text": [
      "   true_group  predicted_group  correct  off_by\n",
      "0           0                0        1       0\n",
      "1           0                0        1       0\n",
      "2           0                0        1       0\n",
      "3           0                0        1       0\n",
      "4           0                0        1       0\n"
     ]
    }
   ],
   "source": [
    "Y_ = ordered.iloc[start_val:stop_val].DepDelay\n",
    "Y_act = ordered.iloc[start_val:stop_val].ArrDelay\n",
    "eval_performance(Y_, Y_act)"
   ]
  },
  {
   "cell_type": "code",
   "execution_count": null,
   "metadata": {
    "collapsed": true
   },
   "outputs": [],
   "source": [
    "X = df[ft]\n",
    "Y = df['dep_arr_delay_split']\n",
    "\n",
    "df_train = df[:cutoff]\n",
    "X_train = X[:cutoff]\n",
    "Y_train = Y[:cutoff]\n",
    "\n",
    "df_test = df[cutoff:]\n",
    "X_test = X[cutoff:]\n",
    "Y_test = Y[cutoff:]"
   ]
  },
  {
   "cell_type": "code",
   "execution_count": null,
   "metadata": {
    "collapsed": true
   },
   "outputs": [],
   "source": [
    "knn = KNeighborsRegressor(n_neighbors=6, weights=None)\n",
    "knn = knn.fit(X_train, Y_train)\n",
    "pred_dad = knn.predict(X_test)"
   ]
  },
  {
   "cell_type": "code",
   "execution_count": null,
   "metadata": {
    "collapsed": true
   },
   "outputs": [],
   "source": [
    "pred = df_test.DepDelay + pred_dad\n",
    "act = df_test.ArrDelay\n",
    "eval_performance(pred, act)"
   ]
  },
  {
   "cell_type": "code",
   "execution_count": null,
   "metadata": {
    "collapsed": true
   },
   "outputs": [],
   "source": [
    "arr_time = 130\n",
    "min_scaled = 100*(int(str(arr_time)[-2:])/60)\n",
    "print(min_scaled)\n",
    "result = str(arr_time)[:-2] + str(min_scaled)\n",
    "int(float(result))"
   ]
  },
  {
   "cell_type": "code",
   "execution_count": null,
   "metadata": {
    "collapsed": true
   },
   "outputs": [],
   "source": []
  }
 ],
 "metadata": {
  "kernelspec": {
   "display_name": "Environment (conda_dspy3)",
   "language": "python",
   "name": "conda_dspy3"
  },
  "language_info": {
   "codemirror_mode": {
    "name": "ipython",
    "version": 3
   },
   "file_extension": ".py",
   "mimetype": "text/x-python",
   "name": "python",
   "nbconvert_exporter": "python",
   "pygments_lexer": "ipython3",
   "version": "3.6.2"
  }
 },
 "nbformat": 4,
 "nbformat_minor": 2
}
