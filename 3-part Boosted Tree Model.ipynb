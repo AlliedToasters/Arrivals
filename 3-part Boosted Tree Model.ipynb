{
 "cells": [
  {
   "cell_type": "markdown",
   "metadata": {},
   "source": [
    "<H1>Predicting Flight Delays</H1>\n",
    "<H3>by Michael Klear</H3>\n",
    "Using <a href='http://stat-computing.org/dataexpo/2009/the-data.html'>this ASA dataset</a> of historic flights, I built a boosted regression model to estimate flight tardiness.<br>"
   ]
  },
  {
   "cell_type": "code",
   "execution_count": 1,
   "metadata": {},
   "outputs": [
    {
     "name": "stderr",
     "output_type": "stream",
     "text": [
      "/home/alliedtoasters/anaconda3/envs/dspy3/lib/python3.6/site-packages/sklearn/cross_validation.py:41: DeprecationWarning: This module was deprecated in version 0.18 in favor of the model_selection module into which all the refactored classes and functions are moved. Also note that the interface of the new CV iterators are different from that of this module. This module will be removed in 0.20.\n",
      "  \"This module will be removed in 0.20.\", DeprecationWarning)\n"
     ]
    }
   ],
   "source": [
    "import pandas as pd\n",
    "import numpy as np\n",
    "import matplotlib.pyplot as plt\n",
    "import seaborn as sns\n",
    "import xgboost as xgb\n",
    "from sklearn.model_selection import GridSearchCV"
   ]
  },
  {
   "cell_type": "markdown",
   "metadata": {},
   "source": [
    "I use these functions to evaluate my model performance. I group delays into several different categories (details in docstring for function assign_delay_group)."
   ]
  },
  {
   "cell_type": "code",
   "execution_count": 2,
   "metadata": {
    "collapsed": true
   },
   "outputs": [],
   "source": [
    "def assign_delay_group(arrival_delay):\n",
    "    '''Takes an arrival delay in minutes and returns a list of \n",
    "    group numbers. The groups correspond to the following encoding:\n",
    "    == 0 if less than 30 minutes late (on time), \n",
    "    == 1 if 30-45 minutes late, \n",
    "    == 2 if 45-60 min late, \n",
    "    == 3 if 60-90, \n",
    "    == 4 if 90-120, \n",
    "    == 5 if 120-180,\n",
    "    == 6 if 180-240,\n",
    "    == 7 if more than 240\n",
    "    '''\n",
    "    d = int(arrival_delay)\n",
    "    if d < 30:\n",
    "        return 0\n",
    "    if 30 <= d < 45:\n",
    "        return 1\n",
    "    if 45 <= d < 60:\n",
    "        return 2\n",
    "    if 60 <= d < 90:\n",
    "        return 3\n",
    "    if 90 <= d < 120:\n",
    "        return 4\n",
    "    if 120 <= d < 180:\n",
    "        return 5\n",
    "    if 180 <= d < 240:\n",
    "        return 6\n",
    "    if 240 <= d:\n",
    "        return 7\n",
    "    else:\n",
    "        raise Exception('Error: unrecognized input')\n",
    "\n",
    "def eval_performance(Y_, Y_true):\n",
    "    \"\"\"Takes a list of predicted arrival delays (Y_) and a matching list of actual\n",
    "    arrival delays (Y_true) and evaluates them based on delay groups.\n",
    "    \"\"\"\n",
    "    Y_ = list(pd.Series(Y_).apply(assign_delay_group))\n",
    "    Y_true = list(pd.Series(Y_true).apply(assign_delay_group))\n",
    "    results = pd.DataFrame()\n",
    "    results['true_group'] = Y_true\n",
    "    results['predicted_group'] = Y_\n",
    "    results['correct'] = np.where(results.true_group == results.predicted_group, 1, 0)\n",
    "    results['off_by'] = np.abs(results.true_group - results.predicted_group)\n",
    "    results[results.correct==0].true_group.hist(bins=7);\n",
    "    plt.title('True Arrival Groups of Misclassified Flights');\n",
    "    plt.xlabel('True Arrival Group');\n",
    "    plt.ylabel('Number of Misclassified Flights')\n",
    "    plt.show();\n",
    "    print('\\n accuracy score: ', results.correct.sum()/len(results))\n",
    "    results[results.correct==0].off_by.hist(bins=7);\n",
    "    plt.title('\"Off By\" Numer of Groups for Misclassified Flights');\n",
    "    plt.xlabel('Off By Number of Groups');\n",
    "    plt.ylabel('Number of Misclassified Flights');\n",
    "    plt.show();\n",
    "    \n",
    "    print('\\n Portion of Predictions Off By More than One Group: ', (len(results[results.off_by >= 2])/len(results)))"
   ]
  },
  {
   "cell_type": "markdown",
   "metadata": {},
   "source": [
    "I train my model on the month of April 2005 and test in on April 2006. I have modified the dataset to include latitude/longitude coordinates for each of the airports. I have also dropped diverted and cancelled flights."
   ]
  },
  {
   "cell_type": "code",
   "execution_count": 3,
   "metadata": {
    "collapsed": true
   },
   "outputs": [],
   "source": [
    "apr05 = pd.read_csv('April05_cds.csv')\n",
    "apr06 = pd.read_csv('April06_cds.csv')"
   ]
  },
  {
   "cell_type": "code",
   "execution_count": 4,
   "metadata": {},
   "outputs": [
    {
     "data": {
      "text/plain": [
       "Index(['Year', 'Month', 'DayofMonth', 'DayOfWeek', 'DepTime', 'CRSDepTime',\n",
       "       'ArrTime', 'CRSArrTime', 'UniqueCarrier', 'FlightNum', 'TailNum',\n",
       "       'ActualElapsedTime', 'CRSElapsedTime', 'AirTime', 'ArrDelay',\n",
       "       'DepDelay', 'Origin', 'Dest', 'Distance', 'TaxiIn', 'TaxiOut',\n",
       "       'Cancelled', 'CancellationCode', 'Diverted', 'CarrierDelay',\n",
       "       'WeatherDelay', 'NASDelay', 'SecurityDelay', 'LateAircraftDelay',\n",
       "       'org_latitude', 'org_longitude', 'dest_latitude', 'dest_longitude',\n",
       "       'lat_dir', 'long_dir'],\n",
       "      dtype='object')"
      ]
     },
     "execution_count": 4,
     "metadata": {},
     "output_type": "execute_result"
    }
   ],
   "source": [
    "apr05.columns"
   ]
  },
  {
   "cell_type": "code",
   "execution_count": 5,
   "metadata": {},
   "outputs": [
    {
     "data": {
      "text/html": [
       "<div>\n",
       "<style>\n",
       "    .dataframe thead tr:only-child th {\n",
       "        text-align: right;\n",
       "    }\n",
       "\n",
       "    .dataframe thead th {\n",
       "        text-align: left;\n",
       "    }\n",
       "\n",
       "    .dataframe tbody tr th {\n",
       "        vertical-align: top;\n",
       "    }\n",
       "</style>\n",
       "<table border=\"1\" class=\"dataframe\">\n",
       "  <thead>\n",
       "    <tr style=\"text-align: right;\">\n",
       "      <th></th>\n",
       "      <th>DepDelay</th>\n",
       "      <th>CarrierDelay</th>\n",
       "      <th>WeatherDelay</th>\n",
       "      <th>NASDelay</th>\n",
       "      <th>SecurityDelay</th>\n",
       "      <th>LateAircraftDelay</th>\n",
       "    </tr>\n",
       "  </thead>\n",
       "  <tbody>\n",
       "    <tr>\n",
       "      <th>21</th>\n",
       "      <td>54.0</td>\n",
       "      <td>0</td>\n",
       "      <td>0</td>\n",
       "      <td>17</td>\n",
       "      <td>0</td>\n",
       "      <td>54</td>\n",
       "    </tr>\n",
       "    <tr>\n",
       "      <th>46</th>\n",
       "      <td>66.0</td>\n",
       "      <td>6</td>\n",
       "      <td>0</td>\n",
       "      <td>0</td>\n",
       "      <td>0</td>\n",
       "      <td>55</td>\n",
       "    </tr>\n",
       "    <tr>\n",
       "      <th>48</th>\n",
       "      <td>54.0</td>\n",
       "      <td>0</td>\n",
       "      <td>0</td>\n",
       "      <td>2</td>\n",
       "      <td>0</td>\n",
       "      <td>50</td>\n",
       "    </tr>\n",
       "    <tr>\n",
       "      <th>57</th>\n",
       "      <td>33.0</td>\n",
       "      <td>22</td>\n",
       "      <td>0</td>\n",
       "      <td>0</td>\n",
       "      <td>0</td>\n",
       "      <td>0</td>\n",
       "    </tr>\n",
       "    <tr>\n",
       "      <th>58</th>\n",
       "      <td>53.0</td>\n",
       "      <td>0</td>\n",
       "      <td>0</td>\n",
       "      <td>12</td>\n",
       "      <td>0</td>\n",
       "      <td>53</td>\n",
       "    </tr>\n",
       "  </tbody>\n",
       "</table>\n",
       "</div>"
      ],
      "text/plain": [
       "    DepDelay  CarrierDelay  WeatherDelay  NASDelay  SecurityDelay  \\\n",
       "21      54.0             0             0        17              0   \n",
       "46      66.0             6             0         0              0   \n",
       "48      54.0             0             0         2              0   \n",
       "57      33.0            22             0         0              0   \n",
       "58      53.0             0             0        12              0   \n",
       "\n",
       "    LateAircraftDelay  \n",
       "21                 54  \n",
       "46                 55  \n",
       "48                 50  \n",
       "57                  0  \n",
       "58                 53  "
      ]
     },
     "execution_count": 5,
     "metadata": {},
     "output_type": "execute_result"
    }
   ],
   "source": [
    "delays = [\n",
    "    'CarrierDelay',\n",
    "    'WeatherDelay',\n",
    "    'NASDelay',\n",
    "    'SecurityDelay',\n",
    "    'LateAircraftDelay'\n",
    "]\n",
    "\n",
    "#We can see the complex relationship between these delay type columns and total delay.\n",
    "#I use a boosted decision tree model to help gather subtle information from these interactions.\n",
    "apr05[apr05.DepDelay > 30][['DepDelay'] + delays].head()"
   ]
  },
  {
   "cell_type": "code",
   "execution_count": 6,
   "metadata": {
    "collapsed": true
   },
   "outputs": [],
   "source": [
    "#These are all of our features\n",
    "fts = delays + [\n",
    "    'DayOfWeek',\n",
    "    'DepTime',\n",
    "    'Distance',\n",
    "    'CRSElapsedTime',\n",
    "    'DepDelay',\n",
    "    'TaxiOut',\n",
    "    'org_latitude',\n",
    "    'org_longitude',\n",
    "    'dest_latitude',\n",
    "    'dest_longitude',\n",
    "    'lat_dir',\n",
    "    'long_dir'\n",
    "]\n",
    "\n",
    "X_train = pd.concat([apr05[fts], pd.get_dummies('UniqueCarrier')], axis=1)\n",
    "X_test = pd.concat([apr06[fts], pd.get_dummies('UniqueCarrier')], axis=1)"
   ]
  },
  {
   "cell_type": "markdown",
   "metadata": {},
   "source": [
    "<H2>Arrival Delay Varies from Departure Delay</H2><br>\n",
    "One might think that arrival delay maps directly to departure delay. A simple model would be to simply predict that the arrival delay is equal to the departure delay. Let's see how this \"null\" model performs:"
   ]
  },
  {
   "cell_type": "code",
   "execution_count": 7,
   "metadata": {},
   "outputs": [
    {
     "name": "stdout",
     "output_type": "stream",
     "text": [
      "Null Model Performance (arrival delay = departure delay): All Flights April 2006 \n",
      "\n"
     ]
    },
    {
     "data": {
      "image/png": "[encoded data removed]",
      "text/plain": [
       "<matplotlib.figure.Figure at 0x7f812043bb00>"
      ]
     },
     "metadata": {},
     "output_type": "display_data"
    },
    {
     "name": "stdout",
     "output_type": "stream",
     "text": [
      "\n",
      " accuracy score:  0.925496522525\n"
     ]
    },
    {
     "data": {
      "image/png": "[encoded data removed]",
      "text/plain": [
       "<matplotlib.figure.Figure at 0x7f811d7d2198>"
      ]
     },
     "metadata": {},
     "output_type": "display_data"
    },
    {
     "name": "stdout",
     "output_type": "stream",
     "text": [
      "\n",
      " Portion of Predictions Off By More than One Group:  0.013433889890915637\n"
     ]
    }
   ],
   "source": [
    "print('Null Model Performance (arrival delay = departure delay): All Flights April 2006 \\n')\n",
    "eval_performance(apr06.DepDelay, apr06.ArrDelay)"
   ]
  },
  {
   "cell_type": "markdown",
   "metadata": {},
   "source": [
    "We can see that this model isn't terrible. It misclassifies roughly 7.5% of arrivals in terms of their actual delay groups.<br>\n",
    "It does have some problems. More than 1% of all the predictions are off by more than one delay group, meaning that these predictions could cause problems for travelers or customer service agents relying on this model."
   ]
  },
  {
   "cell_type": "markdown",
   "metadata": {},
   "source": [
    "<H2>My Model: Break Flight Time into 3 Components</H2><br>\n",
    "To improve on the \"null model,\" I built several components into my prediction. The source of variance between departure delay and arrival delay is the difference between scheduled total flight time (\"CRSElapsedTime\") and the true flight time. This has three components: 1. TaxiOut (the time between departure and takeoff), 2. AirTime (the time from wheels up to touchdown), and 3. TaxiIn (the time between landing and arrival at gate.)<br>\n",
    "Because the taxiout occurs immediately after departure, my model uses the true value for the first component. I then use two seperate xgboost models to predict flight time and taxi in time, and use the sum of these three components to predict the arrival time in my model."
   ]
  },
  {
   "cell_type": "code",
   "execution_count": 8,
   "metadata": {
    "collapsed": true
   },
   "outputs": [],
   "source": [
    "#Put data into xgboost data matrices\n",
    "dtrain_air = xgb.DMatrix(X_train, label=apr05['AirTime'])\n",
    "dtest_air = xgb.DMatrix(X_test, label=apr06['AirTime'])"
   ]
  },
  {
   "cell_type": "code",
   "execution_count": 9,
   "metadata": {},
   "outputs": [],
   "source": [
    "#Component 2: Predict Airtime\n",
    "param = {\n",
    "    'max_depth': 7, \n",
    "    'eta': .04, \n",
    "    'silent': 0, \n",
    "    'objective': \n",
    "    'reg:linear', \n",
    "    'alpha': 1,\n",
    "    'lambda': 2,\n",
    "    'nthread':4,\n",
    "    'eval_metric':'rmse'\n",
    "}\n",
    "\n",
    "plst = param.items()\n",
    "num_round = 635 #No additional gains after this point\n",
    "evallist = [(dtest_air, 'eval'), (dtrain_air, 'train')]\n",
    "air_est = xgb.train(plst, dtrain_air, num_round, evallist, verbose_eval=False) "
   ]
  },
  {
   "cell_type": "code",
   "execution_count": 10,
   "metadata": {
    "collapsed": true
   },
   "outputs": [],
   "source": [
    "#Roughly estimate arrival time to help predict taxi in time.\n",
    "apr05['est_act_arrtime'] = apr05.CRSArrTime + apr05.DepDelay\n",
    "apr06['est_act_arrtime'] = apr06.CRSArrTime + apr06.DepDelay"
   ]
  },
  {
   "cell_type": "code",
   "execution_count": 11,
   "metadata": {
    "collapsed": true
   },
   "outputs": [],
   "source": [
    "#I reason that fewer factors influence taxi in time; I reduce features to include only destination location\n",
    "# (scheduled) arrival time and day of week, as well as carrier (airline)\n",
    "fts_tax = [\n",
    "    'DayOfWeek',\n",
    "    'est_act_arrtime',\n",
    "    'dest_latitude',\n",
    "    'dest_longitude'\n",
    "]\n",
    "\n",
    "Xtax_train = pd.concat([apr05[fts], pd.get_dummies('UniqueCarrier')], axis=1)\n",
    "Xtax_test = pd.concat([apr06[fts], pd.get_dummies('UniqueCarrier')], axis=1)"
   ]
  },
  {
   "cell_type": "code",
   "execution_count": 12,
   "metadata": {},
   "outputs": [],
   "source": [
    "dtrain_tax = xgb.DMatrix(Xtax_train, label=apr05['TaxiIn'])\n",
    "dtest_tax = xgb.DMatrix(Xtax_test, label=apr06['TaxiIn'])\n",
    "\n",
    "param = {\n",
    "    'max_depth': 4, \n",
    "    'eta': .04, \n",
    "    'silent': 0, \n",
    "    'objective': \n",
    "    'reg:linear', \n",
    "    #'alpha': 1,\n",
    "    #'lambda': 2,\n",
    "    'nthread':4,\n",
    "    'eval_metric':'rmse'\n",
    "}\n",
    "\n",
    "plst = param.items()\n",
    "num_round = 700\n",
    "evallist = [(dtest_tax, 'eval'), (dtrain_tax, 'train')]\n",
    "tax_est = xgb.train(plst, dtrain_tax, num_round, evallist, verbose_eval=False)"
   ]
  },
  {
   "cell_type": "markdown",
   "metadata": {},
   "source": [
    "Finally, I put my models (trained on April 2005 data) to use and make some predictions on the April 2006 arrival times."
   ]
  },
  {
   "cell_type": "code",
   "execution_count": 13,
   "metadata": {},
   "outputs": [
    {
     "name": "stdout",
     "output_type": "stream",
     "text": [
      "Three-Component Predictions with Boosted Decision Trees Performance: All Flights April 2006 \n",
      "\n"
     ]
    },
    {
     "data": {
      "image/png": "[encoded data removed]",
      "text/plain": [
       "<matplotlib.figure.Figure at 0x7f811c8dfe80>"
      ]
     },
     "metadata": {},
     "output_type": "display_data"
    },
    {
     "name": "stdout",
     "output_type": "stream",
     "text": [
      "\n",
      " accuracy score:  0.953302476295\n"
     ]
    },
    {
     "data": {
      "image/png": "[encoded data removed]",
      "text/plain": [
       "<matplotlib.figure.Figure at 0x7f811d6f2fd0>"
      ]
     },
     "metadata": {},
     "output_type": "display_data"
    },
    {
     "name": "stdout",
     "output_type": "stream",
     "text": [
      "\n",
      " Portion of Predictions Off By More than One Group:  0.007993519329499859\n"
     ]
    }
   ],
   "source": [
    "est_elapsed_time = apr06.TaxiOut + air_est.predict(dtest_air) + tax_est.predict(dtest_tax)\n",
    "preds = apr06.DepDelay + est_elapsed_time - apr06.CRSElapsedTime\n",
    "print('Three-Component Predictions with Boosted Decision Trees Performance: All Flights April 2006 \\n')\n",
    "eval_performance(preds, apr06.ArrDelay)"
   ]
  },
  {
   "cell_type": "markdown",
   "metadata": {},
   "source": [
    "<H3>Evaluation</H3><br>\n",
    "My three-component model eliminated more than one-third of the misplaced arrival groups. It also reduced the number of predicted arrival times off by more than one group to less than .8% of all predictions.<br>\n",
    "This shows that my approach works, but there is still alot of room for improvement. Honestly, I spent most of my time tuning up the airtime component and the taxi in time estimation is pretty lousy. With more work, I think I can improve the taxi in time estimation and greatly improve the overall performance of my model."
   ]
  },
  {
   "cell_type": "code",
   "execution_count": null,
   "metadata": {
    "collapsed": true
   },
   "outputs": [],
   "source": []
  }
 ],
 "metadata": {
  "kernelspec": {
   "display_name": "Environment (conda_dspy3)",
   "language": "python",
   "name": "conda_dspy3"
  },
  "language_info": {
   "codemirror_mode": {
    "name": "ipython",
    "version": 3
   },
   "file_extension": ".py",
   "mimetype": "text/x-python",
   "name": "python",
   "nbconvert_exporter": "python",
   "pygments_lexer": "ipython3",
   "version": "3.6.2"
  }
 },
 "nbformat": 4,
 "nbformat_minor": 2
}
